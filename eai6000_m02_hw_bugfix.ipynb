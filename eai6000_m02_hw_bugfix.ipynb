{
  "nbformat": 4,
  "nbformat_minor": 0,
  "metadata": {
    "colab": {
      "provenance": [],
      "toc_visible": true
    },
    "kernelspec": {
      "name": "python3",
      "display_name": "Python 3"
    },
    "language_info": {
      "name": "python"
    }
  },
  "cells": [
    {
      "cell_type": "markdown",
      "metadata": {
        "id": "dB4_y4GBm0tt"
      },
      "source": [
        "# A-Star Search Algorithm"
      ]
    },
    {
      "cell_type": "markdown",
      "metadata": {
        "id": "hRmWMPwTm5Ob"
      },
      "source": [
        "This notebook complements the walkthrough article [here](https://towardsdatascience.com/a-star-a-search-algorithm-eb495fb156bb) on the A-Star search algorithm. Throughout the notebook, we ask to you finish sections on your own and answer questions."
      ]
    },
    {
      "cell_type": "markdown",
      "metadata": {
        "id": "auBnTGWHoMle"
      },
      "source": [
        "## [Question - Describe A*]\n",
        "Describe A* search in your own words."
      ]
    },
    {
      "cell_type": "markdown",
      "source": [
        "An amazing algorithm for determining the shortest path between two places in computer science and artificial intelligence is called A* (A-star) search. It determines the best path to reach your destination, just like your car's GPS.\n",
        "\n",
        "Step-by-step working:\n",
        "1) Starting Point\n",
        "2)Cost Calculation\n",
        "3)Priority Queue\n",
        "4)Exploration\n",
        "5)Destination\n",
        "\n",
        "It starts at the starting points, keeps track of the cost so far to the targeted heuristic, sorts out the priority heuristics according to the lowest total cost, keeps on updating the costs and adding them to the priority queue if they're better routes than previously found, reiterates the steps until it finds the shortest route to the desired location.\n",
        "\n",
        "The excellent thing about A-star is its high level of efficiency. It can more effectively focus its search thanks to the heuristic, saving time on paths that are obviously not going to be the shortest. Selecting a strong heuristic is essential to its effectiveness. A-star will always locate the shortest path in the shortest amount of time if the heuristic is flawless, which means it accurately calculates the remaining distance.\n"
      ],
      "metadata": {
        "id": "UziDj3_eiJLj"
      }
    },
    {
      "cell_type": "markdown",
      "metadata": {
        "id": "FsP7pSLAoooN"
      },
      "source": [
        "## [Question - Describe h and g]\n",
        "In A* search, describe the two key elements of *f(n)* (namely *h(n)* and *g(n)*). What do they represent in the algorithm and how do they differ?"
      ]
    },
    {
      "cell_type": "markdown",
      "source": [
        "The function f(n) in the A-star search helps in determining a node's priority as the algorithm looks for the shortest path. It has two parts h(n) and g(n). Together they can be written as f(n) = g(n) + h(n).\n",
        "\n",
        "g(n):\n",
        "This is the cost from starting node to the current node (n).\n",
        "It makes sure that the algorithm tracks the total cost up until the current node (n) with accuracy.\n",
        "\n",
        "h(n):\n",
        "It is the heuristic estimate to the goal node from the current node(n).  It aids in giving priority to nodes that seem to be nearer the target, improving search efficiency.\n",
        "\n",
        "Difference:\n",
        "Expected vs. Actual: The expected cost from the current node to the objective is h(n), while the actual cost from the start to the current node is g(n).\n",
        "Past versus Future: h(n) is an estimate of the cost that will be incurred in the future (from the current node to the objective), whereas g(n) is the cost that has already occurred in the past (up to the current node).\n",
        "\n"
      ],
      "metadata": {
        "id": "HBROexd0rOng"
      }
    },
    {
      "cell_type": "markdown",
      "source": [],
      "metadata": {
        "id": "zhKmI8RSqke4"
      }
    },
    {
      "cell_type": "markdown",
      "metadata": {
        "id": "-_VkEgNWuMDK"
      },
      "source": [
        "## [Activity - run Node]\n",
        "Examine and run the below code."
      ]
    },
    {
      "cell_type": "code",
      "metadata": {
        "id": "ufRvBVJBmmxA"
      },
      "source": [
        "\n",
        "class Node():\n",
        "    \"\"\"A node class for A* Pathfinding\"\"\"\n",
        "\n",
        "    def __init__(self, parent=None, position=None):\n",
        "        self.parent = parent\n",
        "        self.position = position\n",
        "\n",
        "        self.g = 0\n",
        "        self.h = 0\n",
        "        self.f = 0\n",
        "\n",
        "    def __eq__(self, other):\n",
        "        return self.position == other.position"
      ],
      "execution_count": 9,
      "outputs": []
    },
    {
      "cell_type": "markdown",
      "metadata": {
        "id": "Ucsmb_lfuTrp"
      },
      "source": [
        "## [Question - Explain 'Node']\n",
        "In your own words, describe what the purpose of the *Node* class is. Why do we have to initialize a parent and a position?"
      ]
    },
    {
      "cell_type": "markdown",
      "source": [
        "Node Class:  Node class is essential because it captures all the fundamental components of every phase in the A-star algorithm. It records the position of the node, the cost to get there, an approximation of the goal's cost, and finding the shortest path.\n",
        "\n",
        "\n",
        "Parent: This denotes the parent node that the current node is accessed through. When it comes to finding the shortest path, this helps in rebuilding the route from the beginning to the destination once it has been reached.\n",
        "\n",
        "\n",
        "Position: This shows where the node is located. This might be a tuple or basically coordinates in a 2 or 3 dimensional space that represents the coordinates in a grid-based pathfinding issue (e.g., (x, y)).\n"
      ],
      "metadata": {
        "id": "3GJf_qsZtkHF"
      }
    },
    {
      "cell_type": "markdown",
      "metadata": {
        "id": "B6s0TVMuur8t"
      },
      "source": [
        "## [Activity - Run astar() ]"
      ]
    },
    {
      "cell_type": "code",
      "metadata": {
        "id": "wYzrkdjZpxZs"
      },
      "source": [
        "def astar(maze, start, end):\n",
        "    \"\"\"Returns a list of tuples as a path from the given start to the given end in the given maze\"\"\"\n",
        "\n",
        "    # Create start and end node\n",
        "    start_node = Node(None, start)\n",
        "    start_node.g = start_node.h = start_node.f = 0\n",
        "    end_node = Node(None, end)\n",
        "    end_node.g = end_node.h = end_node.f = 0\n",
        "\n",
        "    # Initialize both open and closed list\n",
        "    open_list = []\n",
        "    closed_list = []\n",
        "\n",
        "    # Add the start node\n",
        "    open_list.append(start_node)\n",
        "\n",
        "    # Loop until you find the end\n",
        "    while len(open_list) > 0:\n",
        "\n",
        "        # Get the current node\n",
        "        current_node = open_list[0]\n",
        "        current_index = 0\n",
        "        for index, item in enumerate(open_list):\n",
        "            if item.f < current_node.f:\n",
        "                current_node = item\n",
        "                current_index = index\n",
        "\n",
        "        # Pop current off open list, add to closed list\n",
        "        open_list.pop(current_index)\n",
        "        closed_list.append(current_node)\n",
        "\n",
        "        # Found the goal\n",
        "        if current_node == end_node:\n",
        "            path = []\n",
        "            current = current_node\n",
        "            while current is not None:\n",
        "                path.append(current.position)\n",
        "                current = current.parent\n",
        "            return path[::-1] # Return reversed path\n",
        "\n",
        "        # Generate children\n",
        "        children = []\n",
        "        for new_position in [(0, -1), (0, 1), (-1, 0), (1, 0), (-1, -1), (-1, 1), (1, -1), (1, 1)]: # Adjacent squares\n",
        "\n",
        "            # Get node position\n",
        "            node_position = (current_node.position[0] + new_position[0], current_node.position[1] + new_position[1])\n",
        "\n",
        "            # Make sure within range\n",
        "            if node_position[0] > (len(maze) - 1) or node_position[0] < 0 or node_position[1] > (len(maze[len(maze)-1]) -1) or node_position[1] < 0:\n",
        "                continue\n",
        "\n",
        "            # Make sure walkable terrain\n",
        "            if maze[node_position[0]][node_position[1]] != 0:\n",
        "                continue\n",
        "\n",
        "            # Create new node\n",
        "            new_node = Node(current_node, node_position)\n",
        "\n",
        "            # Append\n",
        "            children.append(new_node)\n",
        "\n",
        "        # Loop through children\n",
        "        for child in children:\n",
        "\n",
        "            # Child is on the closed list\n",
        "            if child in closed_list:\n",
        "              continue\n",
        "\n",
        "            # Create the f, g, and h values\n",
        "            child.g = current_node.g + 1\n",
        "            child.h = ((child.position[0] - end_node.position[0]) ** 2) + ((child.position[1] - end_node.position[1]) ** 2)\n",
        "            child.f = child.g + child.h\n",
        "\n",
        "            # Child is already in the open list\n",
        "            for open_node in open_list:\n",
        "                if child == open_node and child.g > open_node.g:\n",
        "                    continue\n",
        "\n",
        "            # Add the child to the open list\n",
        "            open_list.append(child)\n"
      ],
      "execution_count": 11,
      "outputs": []
    },
    {
      "cell_type": "markdown",
      "metadata": {
        "id": "hral7UX2vF0z"
      },
      "source": [
        "## [Question - Explain maze]\n",
        "What type of input should value of *maze* be?"
      ]
    },
    {
      "cell_type": "markdown",
      "source": [
        "The input for * maze * should be a list of integers. However, it should be binary as well. Let's say we make a grid of 4x4. It would look something like this,\n",
        "\n",
        "maze = [\n",
        "  [0,1,1,0],\n",
        "  [1,0,1,0],\n",
        "  [1,0,1,0],\n",
        "  [0,1,1,0],\n",
        "]\n",
        "\n",
        "Here, 0 represents walkable path to reach the destination and 1 represents un-walkable paths. The code iterates through the maze to find neighboring nodes and find the most efficient way from A to B.\n"
      ],
      "metadata": {
        "id": "ZGG_ZUQ62-d0"
      }
    },
    {
      "cell_type": "markdown",
      "metadata": {
        "id": "EcB70Wbet1-w"
      },
      "source": [
        "## [Question - Build Main]\n",
        "Please use the above code that uses the astar() function to define a path from the beginning to the end of a maze. You can choose how the maze looks and where the start and end are."
      ]
    },
    {
      "cell_type": "code",
      "source": [],
      "metadata": {
        "id": "9bKiADdJoTLz"
      },
      "execution_count": null,
      "outputs": []
    },
    {
      "cell_type": "code",
      "metadata": {
        "id": "MY8tTsSbt1XE",
        "colab": {
          "base_uri": "https://localhost:8080/"
        },
        "outputId": "1b59af37-ad89-4629-a863-9bc3350baee2"
      },
      "source": [
        "# Define the maze\n",
        "maze = [\n",
        "    [0, 1, 0, 0, 0],\n",
        "    [0, 1, 0, 1, 0],\n",
        "    [0, 0, 0, 1, 0],\n",
        "    [0, 1, 0, 1, 0],\n",
        "    [0, 0, 0, 0, 0]\n",
        "]\n",
        "\n",
        "# Define start and end points\n",
        "start = (2, 0)  # Starting position (top-left corner)\n",
        "end = (3,4)    # Ending position (bottom-right corner)\n",
        "\n",
        "# Find the path using A* algorithm\n",
        "path = astar(maze, start, end)\n",
        "print(\"Path:\", path)"
      ],
      "execution_count": 19,
      "outputs": [
        {
          "output_type": "stream",
          "name": "stdout",
          "text": [
            "Path: [(2, 0), (2, 1), (3, 2), (4, 3), (3, 4)]\n"
          ]
        }
      ]
    },
    {
      "cell_type": "markdown",
      "metadata": {
        "id": "_t_M9LWSwc79"
      },
      "source": [
        "## [Question - Impossible Maze]\n",
        "Now create a maze that the algorithm cannot solve. What is the output of the algorithm?"
      ]
    },
    {
      "cell_type": "code",
      "source": [
        "# Define an unsolvable maze\n",
        "maze = [\n",
        "    [0, 1, 1, 1, 1],\n",
        "    [1, 1, 1, 1, 1],\n",
        "    [1, 1, 1, 1, 1],\n",
        "    [1, 1, 1, 1, 1],\n",
        "    [1, 1, 1, 1, 0]\n",
        "]\n",
        "\n",
        "# Define start and end points\n",
        "start = (1, 1)  # Starting position\n",
        "end = (3, 4)    # Destination\n",
        "\n",
        "# Find the path using A* algorithm\n",
        "path = astar(maze, start, end)\n",
        "print(\"Path:\", path)"
      ],
      "metadata": {
        "colab": {
          "base_uri": "https://localhost:8080/"
        },
        "id": "sucUjvp4_yzC",
        "outputId": "ec6978f6-823a-4480-d23e-931abf269197"
      },
      "execution_count": 39,
      "outputs": [
        {
          "output_type": "stream",
          "name": "stdout",
          "text": [
            "Path: None\n"
          ]
        }
      ]
    }
  ]
}